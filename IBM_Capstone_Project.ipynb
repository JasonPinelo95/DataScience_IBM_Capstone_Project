{
 "cells": [
  {
   "cell_type": "markdown",
   "metadata": {},
   "source": [
    "# This Notebook is part of the Capstone Project from the IBM Data Science Professional Certificate\n",
    "# Jason Pinelo\n"
   ]
  },
  {
   "cell_type": "code",
   "execution_count": 1,
   "metadata": {},
   "outputs": [],
   "source": [
    "import pandas as pd\n",
    "import numpy as np\n",
    "import matplotlib.pyplot as plt"
   ]
  },
  {
   "cell_type": "code",
   "execution_count": 2,
   "metadata": {
    "scrolled": false
   },
   "outputs": [
    {
     "name": "stdout",
     "output_type": "stream",
     "text": [
      "Hello Capstone Project Course\n"
     ]
    }
   ],
   "source": [
    "print(\"Hello Capstone Project Course\")"
   ]
  },
  {
   "cell_type": "markdown",
   "metadata": {},
   "source": [
    "## Finding the best business categories in three given neighbours from the city of Mérida, Yucatán, México."
   ]
  },
  {
   "cell_type": "markdown",
   "metadata": {},
   "source": [
    "### MOTIVATION"
   ]
  },
  {
   "cell_type": "markdown",
   "metadata": {},
   "source": [
    "One of the hardest things to find out when people are neophyte and want to start a bussiness is to decide or find what would be the best bussines category to start with. Not many people have the economic solvency to open and close business in short amount of time. For that reason, it is important for people to have certainty about their business, i.e.,to not close in first months of their business life. For what I mentioned above, I will take on the task of helping young people or any person that want to start a business to find what type of business are more likely to survive and have the best incomings."
   ]
  },
  {
   "cell_type": "markdown",
   "metadata": {},
   "source": [
    "### Finding the best business categories, a specific case"
   ]
  },
  {
   "cell_type": "markdown",
   "metadata": {},
   "source": [
    "The specific case I am going to treat has to do with a group of young people who are trying to start their very first business, they do not have previous experience regarding the opening of a business but they have a considerable amount of money to invest, however, they do not have any idea of what kind of business they should start. At the moment they have three major places in where to start, those places are located in the city of Mérida, Yucatán in México. My task here will be to find the best business categories arround the places they are suggesting in order to recommend them one or various business categories that they can start with. Also, in case they decide to start with one specific category I will try to explore in which neighborhoods there are similiraties in order to give them more places to start with their business. One more thing to take in consideration for this work I am assuming that there are a strong positive correlation between the popularity of a place or business and the income they perceive."
   ]
  },
  {
   "cell_type": "markdown",
   "metadata": {},
   "source": [
    "### Data and methodology"
   ]
  },
  {
   "cell_type": "markdown",
   "metadata": {},
   "source": [
    "In Mexico, there is a goverment institution known as INEGI, National Institute of Statistics and Geography, it cointains large datasets on territory, institutions, venues, etc. I will be using the datasets they provide on economic institutions to obtain the name of the neighborhoods and their postal code. From there I am going to use the same data treatment and methodology as explained in the labs of this course, that is using the foursquare API to get information about the surroundings of a given location and combine the datasets so I get at the final a dataset containing:\n",
    "* The name of the neighborhood\n",
    "* The postal code\n",
    "* Latitude \n",
    "* Longitude\n",
    "\n",
    "The Forsquare API is going to give relevant information about the neighborhoods which I am going to use along with the Folium library to create map visualizations, the goal is obtain the most common business stablishments to have an idea of which business is very popular in a given area."
   ]
  },
  {
   "cell_type": "code",
   "execution_count": null,
   "metadata": {},
   "outputs": [],
   "source": []
  },
  {
   "cell_type": "code",
   "execution_count": null,
   "metadata": {},
   "outputs": [],
   "source": []
  }
 ],
 "metadata": {
  "kernelspec": {
   "display_name": "Python 3",
   "language": "python",
   "name": "python3"
  },
  "language_info": {
   "codemirror_mode": {
    "name": "ipython",
    "version": 3
   },
   "file_extension": ".py",
   "mimetype": "text/x-python",
   "name": "python",
   "nbconvert_exporter": "python",
   "pygments_lexer": "ipython3",
   "version": "3.8.5"
  }
 },
 "nbformat": 4,
 "nbformat_minor": 4
}
